{
 "cells": [
  {
   "cell_type": "markdown",
   "metadata": {},
   "source": [
    "- **数据结构**：组织和访问数据的一种系统化方法     \n",
    "- **算法**    ：在有限时间里一步一步执行某些任务的过程      \n",
    "        \n",
    "        \n",
    "- 主要分析方法包括算法和数据结构的**运行时间**和空间利用   \n",
    "- 将算法的运行时间表示为输入大小的函数"
   ]
  },
  {
   "cell_type": "markdown",
   "metadata": {},
   "source": [
    "实验分析：    \n",
    "     \n",
    "- 使用`time`模块的`time()`函数，许多进程共享使用计算机的CPU，算法执行时间依赖计算机中运行的其它进程\n",
    "- 使用`time`模块的`clock()`函数，算法使用的CPU周期数\n",
    "- `timeit`模块，自动地多次重复实验来平谷差异\n",
    "   \n",
    "实验分析严重缺点：算法必须完全实验"
   ]
  },
  {
   "cell_type": "markdown",
   "metadata": {},
   "source": [
    "计算原子操作：\n",
    "- 定义了一系列的原子操作：\n",
    "    - 给对象指定一个标识符\n",
    "    - 确定与这个标识符向关联的对象\n",
    "    - 执行算术运算（例如，两数相加）\n",
    "    - 比较两个数的大小\n",
    "    - 通过索引访问Python列表的元素\n",
    "    - 调用函数（不包括函数内的操作执行）\n",
    "    - 从函数返回\n",
    "- 一个原子操作相当于一个低级别指令，执行时间为常数。通过计算有多少原子操作被执行来作为算法执行时间的度量"
   ]
  },
  {
   "cell_type": "markdown",
   "metadata": {},
   "source": [
    "算法分析中常用的7种函数：   \n",
    "常数函数：$f(n)=c$   \n",
    "对数函数：$f(n)=log_bn$    \n",
    "线性函数：$f(n)=n$      \n",
    "$f(n)=nlog(n)$ "
   ]
  },
  {
   "cell_type": "code",
   "execution_count": null,
   "metadata": {},
   "outputs": [],
   "source": []
  }
 ],
 "metadata": {
  "kernelspec": {
   "display_name": "Python 3",
   "language": "python",
   "name": "python3"
  },
  "language_info": {
   "codemirror_mode": {
    "name": "ipython",
    "version": 3
   },
   "file_extension": ".py",
   "mimetype": "text/x-python",
   "name": "python",
   "nbconvert_exporter": "python",
   "pygments_lexer": "ipython3",
   "version": "3.7.4"
  },
  "toc": {
   "base_numbering": 1,
   "nav_menu": {},
   "number_sections": true,
   "sideBar": true,
   "skip_h1_title": false,
   "title_cell": "Table of Contents",
   "title_sidebar": "Contents",
   "toc_cell": false,
   "toc_position": {},
   "toc_section_display": true,
   "toc_window_display": false
  }
 },
 "nbformat": 4,
 "nbformat_minor": 2
}
